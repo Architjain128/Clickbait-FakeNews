{
 "cells": [
  {
   "cell_type": "code",
   "execution_count": 1,
   "metadata": {},
   "outputs": [],
   "source": [
    "from sklearn.preprocessing import StandardScaler\n",
    "from sklearn.naive_bayes import GaussianNB\n",
    "from sklearn.model_selection import train_test_split\n",
    "from sklearn import metrics \n",
    "import json\n",
    "import numpy as np"
   ]
  },
  {
   "cell_type": "code",
   "execution_count": 10,
   "metadata": {},
   "outputs": [],
   "source": [
    "file = open('../../dataset/fakenews_dataset/fakenews_roberta_44k.json','r')\n",
    "data = json.load(file)\n",
    "x1 = []\n",
    "x2 = []\n",
    "x3 = []\n",
    "x_data = []\n",
    "y_data = []\n",
    "for i in data.keys():\n",
    "    x1.append(data[i][1])\n",
    "    x2.append(data[i][2])\n",
    "    x3.append(data[i][3])\n",
    "    y_data.append(data[i][0])\n",
    "x1 = np.array(x1)\n",
    "x2 = np.array(x2)\n",
    "x3 = np.array(x3)"
   ]
  },
  {
   "cell_type": "code",
   "execution_count": 11,
   "metadata": {},
   "outputs": [
    {
     "name": "stdout",
     "output_type": "stream",
     "text": [
      "(44171, 1)\n",
      "(44171, 1024)\n",
      "(44171, 1024)\n"
     ]
    }
   ],
   "source": [
    "print(x1.shape)\n",
    "print(x2.shape)\n",
    "print(x3.shape)"
   ]
  },
  {
   "cell_type": "code",
   "execution_count": 12,
   "metadata": {},
   "outputs": [],
   "source": [
    "x_data = np.concatenate((x1, x2,x3),axis=1)\n",
    "x_train, x_test, y_train, y_test = train_test_split(x_data, y_data, test_size = 0.2)"
   ]
  },
  {
   "cell_type": "code",
   "execution_count": 13,
   "metadata": {},
   "outputs": [
    {
     "data": {
      "text/plain": [
       "GaussianNB()"
      ]
     },
     "execution_count": 13,
     "metadata": {},
     "output_type": "execute_result"
    }
   ],
   "source": [
    "naive_bayes= GaussianNB()\n",
    "naive_bayes.fit(x_train, y_train)"
   ]
  },
  {
   "cell_type": "code",
   "execution_count": 14,
   "metadata": {},
   "outputs": [
    {
     "name": "stdout",
     "output_type": "stream",
     "text": [
      "accuracy : 0.865195246179966\n",
      "f1_score : 0.8586350148367953\n"
     ]
    }
   ],
   "source": [
    "y_pred = naive_bayes.predict(x_test)\n",
    "accuracy = metrics.accuracy_score(y_test, y_pred)\n",
    "f1_score = metrics.f1_score(y_test, y_pred)\n",
    "print(\"accuracy : \" + str(accuracy))\n",
    "print(\"f1_score : \" + str(f1_score))"
   ]
  },
  {
   "cell_type": "code",
   "execution_count": 15,
   "metadata": {},
   "outputs": [
    {
     "name": "stdout",
     "output_type": "stream",
     "text": [
      "Accuracy:  0.865195246179966\n",
      "f1_score:  0.8586350148367953\n"
     ]
    }
   ],
   "source": [
    "import joblib\n",
    "joblib.dump(naive_bayes, 'naive_bayes_withcb44k.pkl')\n",
    "saved_model = joblib.load('naive_bayes_withcb44k.pkl')\n",
    "y_pred = saved_model.predict(x_test)\n",
    "print(\"Accuracy: \",metrics.accuracy_score(y_test, y_pred))\n",
    "print(\"f1_score: \",metrics.f1_score(y_test, y_pred))"
   ]
  },
  {
   "cell_type": "code",
   "execution_count": null,
   "metadata": {},
   "outputs": [],
   "source": [
    "sc = StandardScaler()\n",
    "X_train_std = sc.fit_transform(x_train)\n",
    "X_test_std = sc.transform(x_test)"
   ]
  }
 ],
 "metadata": {
  "interpreter": {
   "hash": "916dbcbb3f70747c44a77c7bcd40155683ae19c65e1c03b4aa3499c5328201f1"
  },
  "kernelspec": {
   "display_name": "Python 3.8.5 64-bit",
   "name": "python3"
  },
  "language_info": {
   "codemirror_mode": {
    "name": "ipython",
    "version": 3
   },
   "file_extension": ".py",
   "mimetype": "text/x-python",
   "name": "python",
   "nbconvert_exporter": "python",
   "pygments_lexer": "ipython3",
   "version": "3.8.5"
  },
  "orig_nbformat": 4
 },
 "nbformat": 4,
 "nbformat_minor": 2
}
